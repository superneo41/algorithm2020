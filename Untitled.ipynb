{
 "cells": [
  {
   "cell_type": "code",
   "execution_count": 59,
   "metadata": {},
   "outputs": [],
   "source": [
    "'''\n",
    "simple full house game\n",
    "5 cards\n",
    "\n",
    "1. 4 of a kind\n",
    "2. 3 of a kind 2 pairs(full house)\n",
    "3. 3 of a kind\n",
    "4. 2 pairs\n",
    "5. 5 different\n",
    "\n",
    "'''\n",
    "\n",
    "def fullhouse(p1, p2):\n",
    "    '''\n",
    "    p1, p2: list[int], len = 5\n",
    "    if p1 > p2: return 1\n",
    "    if p1 < p2: return -1\n",
    "    if p1 = p2: return 0\n",
    "    \n",
    "    '''\n",
    "    # get the frequency\n",
    "    dic1 = {}\n",
    "    dic2 = {}\n",
    "    for i in p1:\n",
    "        dic1[i] = dic1.get(i,0) + 1\n",
    "    for j in p2:\n",
    "        dic2[j] = dic2.get(j,0) + 1\n",
    "    l1 = list(dic1.items())\n",
    "    l2 = list(dic2.items())\n",
    "    \n",
    "    print(l1)\n",
    "    print(l2)\n",
    "    # compare\n",
    "    def compare(l1,l2):\n",
    "        l1.sort(key = lambda x: (x[1], x[0]))\n",
    "        l2.sort(key = lambda x: (x[1], x[0]))\n",
    "        while l1 and l2:\n",
    "            pair1 = l1.pop()\n",
    "            pair2 = l2.pop()\n",
    "            type1, value1 = pair1[1], pair1[0]\n",
    "            type2, value2 = pair2[1], pair2[0]\n",
    "            if type1 > type2:\n",
    "                return 1\n",
    "            elif type1 < type2:\n",
    "                return -1\n",
    "            else:     \n",
    "                if value1 > value2:\n",
    "                    return 1\n",
    "                elif value1 < value2:\n",
    "                    return -1\n",
    "        return 0\n",
    "\n",
    "    return compare(l1,l2)\n",
    "    "
   ]
  },
  {
   "cell_type": "code",
   "execution_count": 66,
   "metadata": {},
   "outputs": [
    {
     "name": "stdout",
     "output_type": "stream",
     "text": [
      "[(1, 4), (8, 1)]\n",
      "[(2, 2), (1, 1), (8, 2)]\n"
     ]
    },
    {
     "data": {
      "text/plain": [
       "1"
      ]
     },
     "execution_count": 66,
     "metadata": {},
     "output_type": "execute_result"
    }
   ],
   "source": [
    "p1 = [1,1,1,1,8]\n",
    "p2 = [2,2,1,8,8]\n",
    "\n",
    "fullhouse(p1, p2)\n",
    "    "
   ]
  },
  {
   "cell_type": "code",
   "execution_count": 51,
   "metadata": {},
   "outputs": [
    {
     "data": {
      "text/plain": [
       "1"
      ]
     },
     "execution_count": 51,
     "metadata": {},
     "output_type": "execute_result"
    }
   ],
   "source": [
    "l1 = [(10,2),(3,2),(10,1)]\n",
    "l2 = [(9,2),(3,2),(10,1)]\n",
    "compare(l1,l2)"
   ]
  },
  {
   "cell_type": "code",
   "execution_count": 25,
   "metadata": {},
   "outputs": [
    {
     "data": {
      "text/plain": [
       "[(9, 1), (10, 1), (7, 2)]"
      ]
     },
     "execution_count": 25,
     "metadata": {},
     "output_type": "execute_result"
    }
   ],
   "source": [
    "l3 = [(7,2),(10,1),(9,1)]\n",
    "\n",
    "\n",
    "\n",
    "l3.sort(key= lambda x: (x[1],x[0]))\n",
    "l3"
   ]
  },
  {
   "cell_type": "code",
   "execution_count": 3,
   "metadata": {},
   "outputs": [],
   "source": [
    "count = 0\n",
    "count += False"
   ]
  },
  {
   "cell_type": "code",
   "execution_count": 4,
   "metadata": {},
   "outputs": [
    {
     "data": {
      "text/plain": [
       "0"
      ]
     },
     "execution_count": 4,
     "metadata": {},
     "output_type": "execute_result"
    }
   ],
   "source": [
    "count\n"
   ]
  },
  {
   "cell_type": "code",
   "execution_count": null,
   "metadata": {},
   "outputs": [],
   "source": []
  }
 ],
 "metadata": {
  "kernelspec": {
   "display_name": "Python 3",
   "language": "python",
   "name": "python3"
  },
  "language_info": {
   "codemirror_mode": {
    "name": "ipython",
    "version": 3
   },
   "file_extension": ".py",
   "mimetype": "text/x-python",
   "name": "python",
   "nbconvert_exporter": "python",
   "pygments_lexer": "ipython3",
   "version": "3.7.3"
  }
 },
 "nbformat": 4,
 "nbformat_minor": 2
}
